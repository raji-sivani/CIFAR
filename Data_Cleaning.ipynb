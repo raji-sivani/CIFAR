#!/usr/bin/env python
# coding: utf-8

# In[ ]:


import pandas as pd         #importing python libraries
import datetime as dt
import numpy as np
import os



# In[ ]:


df = pd.read_csv("mta_1706.csv",error_bad_lines = False)  # reading csv file as a dataframe


# In[ ]:


df['RecordedAtTime'] =  pd.to_datetime(df['RecordedAtTime']) # converting object datatype into datetime datatype


# In[ ]:


df['RecordedDate'] = pd.to_datetime(df['RecordedAtTime']).dt.date # extracting date from timestamp
df['RecordedTime'] = pd.to_datetime(df['RecordedAtTime']).dt.time #extracting time from timestamp


# In[ ]:


df['ExpectedArrDate'] = pd.to_datetime(df['ExpectedArrivalTime']).dt.date # extracting date from timestamp
df['ExpectedArrTime'] = pd.to_datetime(df['ExpectedArrivalTime']).dt.time #extracting time from timestamp


# In[ ]:


df['RecordedDate'] = df['RecordedDate'].apply(lambda x:x.split()[0].split('-')[0] + '-' +  
                                                                  x.split()[0].split('-')[1] + '-' +  # converting date from'/' to '-'
                                                                  x.split()[0].split('-')[2])


# In[ ]:


df['RecordedTime'] = df['RecordedTime'].apply(lambda x:x.split()[0].split(':')[0] + ':' +  
                                                                  x.split()[0].split(':')[1] + ':' + # converting time from'/' to ':'
                                                                  x.split()[0].split(':')[2])


# In[ ]:


df['ExpectedArrDate'] = df['ExpectedArrDate'].apply(lambda x:x.split()[0].split('-')[0] + '-' +  
                                                                  x.split()[0].split('-')[1] + '-' + # converting date from'/' to '-'
                                                                  x.split()[0].split('-')[2])


# In[ ]:


df['ExpectedArrTime'] = df['ExpectedArrTime'].apply(lambda x:x.split()[0].split(':')[0] + ':' +  
                                                                  x.split()[0].split(':')[1] + ':' + # converting time from'/' to '-'
                                                                  x.split()[0].split(':')[2])


# In[ ]:


newdata = df[~(df['ScheduledArrivalTime'].apply(lambda x:str(x).split(':')[0]) == '24')]
newdata = newdata[(newdata['ScheduledArrivalTime'].apply(lambda x:str(x).split(':')[0]) == '25')]
newdata = newdata[~(newdata['ScheduledArrivalTime'].apply(lambda x:str(x).split(':')[0]) == '26')] # Removing data having scheduled arrival
newdata = newdata[~(newdata['ScheduledArrivalTime'].apply(lambda x:str(x).split(':')[0]) == '27')] # time starting from 24,25,26,27,28
newdata = newdata[~(newdata['ScheduledArrivalTime'].apply(lambda x:str(x).split(':')[0]) == '28')]


# In[ ]:


Destinationdata = newdata[['DestinationName','DestinationLat','DestinationLong']] #Creating new data frames for destination and origin table
Origindata = newdata[['OriginName','OriginLat','OriginLong']]                     #normalization


# In[ ]:


newdata.drop(columns = ['RecordedAtTime','OriginLat','OriginLong','DestinationLat','DestinationLong','ExpectedArrivalTime'],inplace = True) 
# dropping columns from original database as a part of normalization


# In[ ]:


Origindata.drop_duplicates(inplace = True)
Destinationdata.drop_duplicates(inplace = True) # Dropping duplicates from origin and destination table


# In[ ]:


newdata.reset_index(drop = True,inplace = True) # Resetting the index column for assignment as primary key
newdata.index+=1                                # Incrementing the index column as it starts with zero


# In[ ]:


newdata.index.names = ['RecordID']             # RecordID is the primary key


# In[ ]:


newdata = newdata.dropna()                     # Removing rows having NA values


# In[ ]:


newdata[:1000000].to_csv('FinalPart1.csv')
newdata[1000000:2000000].to_csv('FinalPart2.csv')
newdata[2000000:3000000].to_csv('FinalPart3.csv')
newdata[3000000:4000000].to_csv('FinalPart4.csv')
newdata[4000000:5000000].to_csv('FinalPart5.csv')
newdata[5000000:].to_csv('FinalPart6.csv')
Origindata.to_csv('Origindata.csv',index = False)
Destinationdata.to_csv('Destinationdata.csv',index = False) # Converting files from dataframe to csv for final uploading to DB
# Cleaning and normalization complete

