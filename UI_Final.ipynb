{
 "cells": [
  {
   "cell_type": "code",
   "execution_count": 1,
   "metadata": {},
   "outputs": [],
   "source": [
    "# Import Required Python Libraries\n",
    "\n",
    "import tkinter as tkinter\n",
    "from tkinter import *\n",
    "from PIL import Image, ImageTk\n",
    "from tkinter import filedialog\n",
    "from tkinter import Tk, Label, Canvas\n",
    "from tkinter import ttk\n",
    "import pandas as pd\n",
    "import urllib\n",
    "import requests\n",
    "import numpy as np"
   ]
  },
  {
   "cell_type": "markdown",
   "metadata": {},
   "source": [
    "# Business Logic"
   ]
  },
  {
   "cell_type": "code",
   "execution_count": 2,
   "metadata": {},
   "outputs": [],
   "source": [
    "# This function gets values from user inputs and applies Business Logic on the code\n",
    "def send(day, time1, time2):\n",
    "    \n",
    "#   Get user inputs in local variables\n",
    "    day = day\n",
    "    time1 = time1\n",
    "    time2 = time2\n",
    "    \n",
    "#   Append the user input values to the API URL\n",
    "    url='http://192.168.1.116:8080/nyc-busdata/webapi/transport/details/'+day+'/'+time1+'/'+time2\n",
    "    print(url)\n",
    "    \n",
    "#   Call API to get values\n",
    "    response = requests.get(url)\n",
    "    \n",
    "#   Get data from JSON returned by the API\n",
    "    data = response.json()\n",
    "    \n",
    "#   Get JSON data in a DataFrame\n",
    "    importeddf = pd.DataFrame(data)\n",
    "\n",
    "\n",
    "#   Change Datatype of Expected Time of Arrival from String to Datetime\n",
    "    importeddf[\"expectedArrivalTime\"] = pd.to_datetime(importeddf[\"expectedArrivalTime\"],format= '%H:%M:%S')\n",
    "\n",
    "#   Change Datatype of Scheduled Time of Arrival from String to Datetime\n",
    "    importeddf[\"scheduledArrivalTime\"] = pd.to_datetime(importeddf[\"scheduledArrivalTime\"],format= '%H:%M:%S')\n",
    "\n",
    "#   Add Calculated Column of 'Delay'\n",
    "    importeddf[\"Delay\"] = importeddf[\"expectedArrivalTime\"] - importeddf[\"scheduledArrivalTime\"]\n",
    "\n",
    "#   Change Datatype of Delay to numeric\n",
    "    importeddf[\"Delay\"] = pd.to_numeric(importeddf[\"Delay\"])\n",
    "\n",
    "#   Convert Nanoseconds to Minutes\n",
    "    importeddf[\"DelayInMinutes\"] = importeddf[\"Delay\"]/60000000000 \n",
    "    \n",
    "#   Round Delay in minutes and add to a new Dataframe\n",
    "    dataframe = pd.DataFrame(importeddf.round({'DelayInMinutes':1}))\n",
    "\n",
    "\n",
    "#   Groupby NextStop and take Mean of Delays \n",
    "    groupeddataframe = pd.DataFrame(dataframe.groupby([\"nextStopPointName\"]).mean())\n",
    "\n",
    "    ascendingDF = pd.DataFrame(groupeddataframe.sort_values([\"DelayInMinutes\"],ascending=False))\n",
    "\n",
    "#   Adding Column to determine if there is an average delay or not\n",
    "    ascendingDF.loc[ascendingDF.DelayInMinutes > 0, 'Delay?'] = 'True' \n",
    "\n",
    "    OnlyPoditiveDF = pd.DataFrame(ascendingDF[ascendingDF['Delay?'] == 'True'])\n",
    "\n",
    "#   Get only positive Delay values in the final output\n",
    "    finalDF = pd.DataFrame(OnlyPoditiveDF['DelayInMinutes'])\n",
    "\n",
    "#   Returns 'finalDF' DataFrame to the Front End Code\n",
    "    return(finalDF.round({'DelayInMinutes':1}))"
   ]
  },
  {
   "cell_type": "markdown",
   "metadata": {},
   "source": [
    "# Front End"
   ]
  },
  {
   "cell_type": "code",
   "execution_count": 3,
   "metadata": {},
   "outputs": [
    {
     "name": "stdout",
     "output_type": "stream",
     "text": [
      "http://192.168.1.116:8080/nyc-busdata/webapi/transport/details/Thursday/00:30:00/00:40:00\n"
     ]
    }
   ],
   "source": [
    "# Create master window dialog box\n",
    "master = tkinter.Tk()\n",
    "\n",
    "# Set background color\n",
    "master.configure(background='cyan3')\n",
    "\n",
    "# Set title\n",
    "master.title(\"Taxi Mate\")\n",
    "\n",
    "# Function which gets values from user inputs and sends them to the business logic through \"send\" function\n",
    "def values_return(event):\n",
    "    content1 = entry1.get()\n",
    "    content2 = entry2.get()\n",
    "    content3 = entry3.get()\n",
    "    output.delete('1.0', END)\n",
    "    \n",
    "#   Call business logic function \"send\" and print output in GUI\n",
    "    output.insert(END, (str(send(content1, content2, content3)) + '\\n'))\n",
    "\n",
    "    \n",
    "# Create Labels\n",
    "Label(master, text=\"Day: \", bg='cyan3', font='Helvetica 18 bold', fg = 'white').grid(row=0, sticky=W)\n",
    "Label(master, text=\"Time1: \", bg = 'cyan3', font='Helvetica 18 bold', fg = 'white').grid(row=1, sticky=W)\n",
    "Label(master, text=\"Time2: \", bg = 'cyan3', font='Helvetica 18 bold', fg = 'white').grid(row=2, sticky=W)\n",
    "\n",
    "# Create Entries to take user inputs\n",
    "entry1 = Entry(master, bg = 'snow3', borderwidth = 3, relief = RAISED)\n",
    "entry2 = Entry(master, bg = 'snow3', borderwidth = 3, relief = RAISED)\n",
    "entry3 = Entry(master, bg = 'snow3', borderwidth = 3, relief = RAISED)\n",
    "\n",
    "# Create a Submit Button\n",
    "submit = Button(master, text=\"Submit\", bg = 'SlateGray3', fg = 'white', font='Helvetica 11 bold', borderwidth = 3, relief = RAISED)\n",
    "\n",
    "# Set postions of Entries on the GUI Window\n",
    "entry1.grid(row=0, column=1)\n",
    "entry2.grid(row=1, column=1)\n",
    "entry3.grid(row=2, column=1)\n",
    "\n",
    "# Set position of Submit Button on the GUI Window\n",
    "submit.grid(row=3, column=1)\n",
    "\n",
    "# Set Output Box postion and size\n",
    "output = Text(master, width=120, height= 30, bg = 'snow3', borderwidth = 3, relief = RIDGE)\n",
    "output.grid(row=4, column=1)\n",
    "\n",
    "# Bind Submit Button to an event which calls the \"values_return\" funtion to get user inputs\n",
    "submit.bind('<Button>', values_return)\n",
    "\n",
    "# Infinite Loop to keep the GUI window runnning\n",
    "mainloop()"
   ]
  },
  {
   "cell_type": "code",
   "execution_count": null,
   "metadata": {},
   "outputs": [],
   "source": []
  }
 ],
 "metadata": {
  "kernelspec": {
   "display_name": "Python 3",
   "language": "python",
   "name": "python3"
  },
  "language_info": {
   "codemirror_mode": {
    "name": "ipython",
    "version": 3
   },
   "file_extension": ".py",
   "mimetype": "text/x-python",
   "name": "python",
   "nbconvert_exporter": "python",
   "pygments_lexer": "ipython3",
   "version": "3.7.3"
  }
 },
 "nbformat": 4,
 "nbformat_minor": 2
}
